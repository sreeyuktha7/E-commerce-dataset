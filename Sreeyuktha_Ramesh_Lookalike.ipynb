{
 "cells": [
  {
   "cell_type": "markdown",
   "id": "f51e555f-78e3-407a-af26-9de168eb83cc",
   "metadata": {},
   "source": [
    " <h1 style=\" font-family:calibri; color:black; font-size:250%; text-align:center; \">Lookalike Model</h1> "
   ]
  },
  {
   "cell_type": "markdown",
   "id": "03d4a89f-e9c0-4986-8ac6-bfa2e722ba3c",
   "metadata": {},
   "source": [
    "<div style=\"border-radius:10px; padding: 5px; background-color: grey; font-size:120%; text-align:left\">\n",
    "\n",
    "<h3 align=\"left\"><font color=black>Problem Statement:</font></h3>\n",
    "Lookalike Model that takes a user's information as input and recommends 3 similar\n",
    " customers based on their profile and transaction history."
   ]
  },
  {
   "cell_type": "code",
   "execution_count": 14,
   "id": "ad065976-82f3-41c4-8103-b81038dbb317",
   "metadata": {},
   "outputs": [],
   "source": [
    "import pandas as pd\n",
    "import numpy as np\n",
    "from sklearn.preprocessing import StandardScaler\n",
    "from sklearn.metrics.pairwise import cosine_similarity"
   ]
  },
  {
   "cell_type": "code",
   "execution_count": 22,
   "id": "0c2060cf-aad2-4e7e-9fbb-4f68d1e47ac4",
   "metadata": {},
   "outputs": [],
   "source": [
    "# Load datasets\n",
    "customers = pd.read_csv('Customers.csv')\n",
    "products = pd.read_csv('Products.csv')\n",
    "transactions = pd.read_csv('Transactions.csv')"
   ]
  },
  {
   "cell_type": "code",
   "execution_count": 26,
   "id": "3f6c5917-62e7-4f1e-8857-228148d459c1",
   "metadata": {},
   "outputs": [
    {
     "data": {
      "text/html": [
       "<div>\n",
       "<style scoped>\n",
       "    .dataframe tbody tr th:only-of-type {\n",
       "        vertical-align: middle;\n",
       "    }\n",
       "\n",
       "    .dataframe tbody tr th {\n",
       "        vertical-align: top;\n",
       "    }\n",
       "\n",
       "    .dataframe thead th {\n",
       "        text-align: right;\n",
       "    }\n",
       "</style>\n",
       "<table border=\"1\" class=\"dataframe\">\n",
       "  <thead>\n",
       "    <tr style=\"text-align: right;\">\n",
       "      <th></th>\n",
       "      <th>CustomerID</th>\n",
       "      <th>CustomerName</th>\n",
       "      <th>Region</th>\n",
       "      <th>SignupDate</th>\n",
       "    </tr>\n",
       "  </thead>\n",
       "  <tbody>\n",
       "    <tr>\n",
       "      <th>0</th>\n",
       "      <td>C0001</td>\n",
       "      <td>Lawrence Carroll</td>\n",
       "      <td>South America</td>\n",
       "      <td>2022-07-10</td>\n",
       "    </tr>\n",
       "    <tr>\n",
       "      <th>1</th>\n",
       "      <td>C0002</td>\n",
       "      <td>Elizabeth Lutz</td>\n",
       "      <td>Asia</td>\n",
       "      <td>2022-02-13</td>\n",
       "    </tr>\n",
       "    <tr>\n",
       "      <th>2</th>\n",
       "      <td>C0003</td>\n",
       "      <td>Michael Rivera</td>\n",
       "      <td>South America</td>\n",
       "      <td>2024-03-07</td>\n",
       "    </tr>\n",
       "    <tr>\n",
       "      <th>3</th>\n",
       "      <td>C0004</td>\n",
       "      <td>Kathleen Rodriguez</td>\n",
       "      <td>South America</td>\n",
       "      <td>2022-10-09</td>\n",
       "    </tr>\n",
       "    <tr>\n",
       "      <th>4</th>\n",
       "      <td>C0005</td>\n",
       "      <td>Laura Weber</td>\n",
       "      <td>Asia</td>\n",
       "      <td>2022-08-15</td>\n",
       "    </tr>\n",
       "  </tbody>\n",
       "</table>\n",
       "</div>"
      ],
      "text/plain": [
       "  CustomerID        CustomerName         Region  SignupDate\n",
       "0      C0001    Lawrence Carroll  South America  2022-07-10\n",
       "1      C0002      Elizabeth Lutz           Asia  2022-02-13\n",
       "2      C0003      Michael Rivera  South America  2024-03-07\n",
       "3      C0004  Kathleen Rodriguez  South America  2022-10-09\n",
       "4      C0005         Laura Weber           Asia  2022-08-15"
      ]
     },
     "execution_count": 26,
     "metadata": {},
     "output_type": "execute_result"
    }
   ],
   "source": [
    "customers.head()"
   ]
  },
  {
   "cell_type": "code",
   "execution_count": 28,
   "id": "0217e8ca-346e-4ef3-b60a-9505c1a97f4f",
   "metadata": {},
   "outputs": [
    {
     "data": {
      "text/html": [
       "<div>\n",
       "<style scoped>\n",
       "    .dataframe tbody tr th:only-of-type {\n",
       "        vertical-align: middle;\n",
       "    }\n",
       "\n",
       "    .dataframe tbody tr th {\n",
       "        vertical-align: top;\n",
       "    }\n",
       "\n",
       "    .dataframe thead th {\n",
       "        text-align: right;\n",
       "    }\n",
       "</style>\n",
       "<table border=\"1\" class=\"dataframe\">\n",
       "  <thead>\n",
       "    <tr style=\"text-align: right;\">\n",
       "      <th></th>\n",
       "      <th>ProductID</th>\n",
       "      <th>ProductName</th>\n",
       "      <th>Category</th>\n",
       "      <th>Price</th>\n",
       "    </tr>\n",
       "  </thead>\n",
       "  <tbody>\n",
       "    <tr>\n",
       "      <th>0</th>\n",
       "      <td>P001</td>\n",
       "      <td>ActiveWear Biography</td>\n",
       "      <td>Books</td>\n",
       "      <td>169.30</td>\n",
       "    </tr>\n",
       "    <tr>\n",
       "      <th>1</th>\n",
       "      <td>P002</td>\n",
       "      <td>ActiveWear Smartwatch</td>\n",
       "      <td>Electronics</td>\n",
       "      <td>346.30</td>\n",
       "    </tr>\n",
       "    <tr>\n",
       "      <th>2</th>\n",
       "      <td>P003</td>\n",
       "      <td>ComfortLiving Biography</td>\n",
       "      <td>Books</td>\n",
       "      <td>44.12</td>\n",
       "    </tr>\n",
       "    <tr>\n",
       "      <th>3</th>\n",
       "      <td>P004</td>\n",
       "      <td>BookWorld Rug</td>\n",
       "      <td>Home Decor</td>\n",
       "      <td>95.69</td>\n",
       "    </tr>\n",
       "    <tr>\n",
       "      <th>4</th>\n",
       "      <td>P005</td>\n",
       "      <td>TechPro T-Shirt</td>\n",
       "      <td>Clothing</td>\n",
       "      <td>429.31</td>\n",
       "    </tr>\n",
       "  </tbody>\n",
       "</table>\n",
       "</div>"
      ],
      "text/plain": [
       "  ProductID              ProductName     Category   Price\n",
       "0      P001     ActiveWear Biography        Books  169.30\n",
       "1      P002    ActiveWear Smartwatch  Electronics  346.30\n",
       "2      P003  ComfortLiving Biography        Books   44.12\n",
       "3      P004            BookWorld Rug   Home Decor   95.69\n",
       "4      P005          TechPro T-Shirt     Clothing  429.31"
      ]
     },
     "execution_count": 28,
     "metadata": {},
     "output_type": "execute_result"
    }
   ],
   "source": [
    "products.head()"
   ]
  },
  {
   "cell_type": "code",
   "execution_count": 30,
   "id": "5e5dae48-4b72-4810-8e26-4c57397b61af",
   "metadata": {},
   "outputs": [
    {
     "data": {
      "text/html": [
       "<div>\n",
       "<style scoped>\n",
       "    .dataframe tbody tr th:only-of-type {\n",
       "        vertical-align: middle;\n",
       "    }\n",
       "\n",
       "    .dataframe tbody tr th {\n",
       "        vertical-align: top;\n",
       "    }\n",
       "\n",
       "    .dataframe thead th {\n",
       "        text-align: right;\n",
       "    }\n",
       "</style>\n",
       "<table border=\"1\" class=\"dataframe\">\n",
       "  <thead>\n",
       "    <tr style=\"text-align: right;\">\n",
       "      <th></th>\n",
       "      <th>TransactionID</th>\n",
       "      <th>CustomerID</th>\n",
       "      <th>ProductID</th>\n",
       "      <th>TransactionDate</th>\n",
       "      <th>Quantity</th>\n",
       "      <th>TotalValue</th>\n",
       "      <th>Price</th>\n",
       "    </tr>\n",
       "  </thead>\n",
       "  <tbody>\n",
       "    <tr>\n",
       "      <th>0</th>\n",
       "      <td>T00001</td>\n",
       "      <td>C0199</td>\n",
       "      <td>P067</td>\n",
       "      <td>2024-08-25 12:38:23</td>\n",
       "      <td>1</td>\n",
       "      <td>300.68</td>\n",
       "      <td>300.68</td>\n",
       "    </tr>\n",
       "    <tr>\n",
       "      <th>1</th>\n",
       "      <td>T00112</td>\n",
       "      <td>C0146</td>\n",
       "      <td>P067</td>\n",
       "      <td>2024-05-27 22:23:54</td>\n",
       "      <td>1</td>\n",
       "      <td>300.68</td>\n",
       "      <td>300.68</td>\n",
       "    </tr>\n",
       "    <tr>\n",
       "      <th>2</th>\n",
       "      <td>T00166</td>\n",
       "      <td>C0127</td>\n",
       "      <td>P067</td>\n",
       "      <td>2024-04-25 07:38:55</td>\n",
       "      <td>1</td>\n",
       "      <td>300.68</td>\n",
       "      <td>300.68</td>\n",
       "    </tr>\n",
       "    <tr>\n",
       "      <th>3</th>\n",
       "      <td>T00272</td>\n",
       "      <td>C0087</td>\n",
       "      <td>P067</td>\n",
       "      <td>2024-03-26 22:55:37</td>\n",
       "      <td>2</td>\n",
       "      <td>601.36</td>\n",
       "      <td>300.68</td>\n",
       "    </tr>\n",
       "    <tr>\n",
       "      <th>4</th>\n",
       "      <td>T00363</td>\n",
       "      <td>C0070</td>\n",
       "      <td>P067</td>\n",
       "      <td>2024-03-21 15:10:10</td>\n",
       "      <td>3</td>\n",
       "      <td>902.04</td>\n",
       "      <td>300.68</td>\n",
       "    </tr>\n",
       "  </tbody>\n",
       "</table>\n",
       "</div>"
      ],
      "text/plain": [
       "  TransactionID CustomerID ProductID      TransactionDate  Quantity  \\\n",
       "0        T00001      C0199      P067  2024-08-25 12:38:23         1   \n",
       "1        T00112      C0146      P067  2024-05-27 22:23:54         1   \n",
       "2        T00166      C0127      P067  2024-04-25 07:38:55         1   \n",
       "3        T00272      C0087      P067  2024-03-26 22:55:37         2   \n",
       "4        T00363      C0070      P067  2024-03-21 15:10:10         3   \n",
       "\n",
       "   TotalValue   Price  \n",
       "0      300.68  300.68  \n",
       "1      300.68  300.68  \n",
       "2      300.68  300.68  \n",
       "3      601.36  300.68  \n",
       "4      902.04  300.68  "
      ]
     },
     "execution_count": 30,
     "metadata": {},
     "output_type": "execute_result"
    }
   ],
   "source": [
    "transactions.head()"
   ]
  },
  {
   "cell_type": "code",
   "execution_count": 32,
   "id": "d8497dbc-c116-4740-aef4-cc7a475cc6a9",
   "metadata": {},
   "outputs": [],
   "source": [
    "# Merge datasets\n",
    "transactions_products = transactions.merge(products, on='ProductID')\n",
    "full_data = transactions_products.merge(customers, on='CustomerID')"
   ]
  },
  {
   "cell_type": "code",
   "execution_count": 34,
   "id": "9228d998-94b1-47a7-af91-c1c02da9ebc0",
   "metadata": {},
   "outputs": [],
   "source": [
    "# Feature Engineering\n",
    "customer_features = full_data.groupby('CustomerID').agg({\n",
    "    'Quantity': 'sum',  # Total purchases\n",
    "    'Category': pd.Series.nunique,  # Unique product categories\n",
    "    'TotalValue': 'mean',  # Average spending per transaction\n",
    "    'SignupDate': lambda x: (pd.Timestamp('today') - pd.to_datetime(x.iloc[0])).days  # Tenure\n",
    "}).reset_index()"
   ]
  },
  {
   "cell_type": "code",
   "execution_count": 36,
   "id": "132d7b37-5423-4e20-ba7b-f7897703cb86",
   "metadata": {},
   "outputs": [],
   "source": [
    "customer_features.rename(columns={\n",
    "    'Quantity': 'TotalPurchases',\n",
    "    'Category': 'UniqueCategories',\n",
    "    'TotalValue': 'AverageSpending',\n",
    "    'SignupDate': 'TenureDays'\n",
    "}, inplace=True)"
   ]
  },
  {
   "cell_type": "code",
   "execution_count": 38,
   "id": "16f6ae4d-216a-4164-9525-3a6f3bdd93e5",
   "metadata": {},
   "outputs": [],
   "source": [
    "# Standardize numerical features\n",
    "scaler = StandardScaler()\n",
    "scaled_features = scaler.fit_transform(customer_features[['TotalPurchases', 'UniqueCategories', 'AverageSpending', 'TenureDays']])\n",
    "customer_features[['TotalPurchases', 'UniqueCategories', 'AverageSpending', 'TenureDays']] = scaled_features"
   ]
  },
  {
   "cell_type": "code",
   "execution_count": 40,
   "id": "1af3a20b-a584-4bce-9597-08e58318a2f7",
   "metadata": {},
   "outputs": [],
   "source": [
    "# Compute similarity matrix\n",
    "similarity_matrix = cosine_similarity(scaled_features)"
   ]
  },
  {
   "cell_type": "code",
   "execution_count": 42,
   "id": "171d7c12-7f10-44dc-b371-a744e7c59cac",
   "metadata": {},
   "outputs": [],
   "source": [
    "# Function to get top 3 lookalikes for a customer\n",
    "def get_top_lookalikes(similarity_matrix, customer_index, n=3):\n",
    "    scores = similarity_matrix[customer_index]\n",
    "    top_indices = np.argsort(scores)[::-1][1:n+1]  # Skip self-match\n",
    "    return [(customer_features.iloc[idx]['CustomerID'], scores[idx]) for idx in top_indices]"
   ]
  },
  {
   "cell_type": "code",
   "execution_count": 44,
   "id": "c9d5172c-1f1d-4ceb-8a8f-691ffba00a96",
   "metadata": {},
   "outputs": [],
   "source": [
    "# Generate recommendations for the first 20 customers\n",
    "lookalike_map = {}\n",
    "for i in range(20):\n",
    "    lookalikes = get_top_lookalikes(similarity_matrix, i, 3)\n",
    "    lookalike_map[customer_features.iloc[i]['CustomerID']] = [\n",
    "        {'cust_id': lookalike[0], 'score': round(lookalike[1], 4)} for lookalike in lookalikes\n",
    "    ]"
   ]
  },
  {
   "cell_type": "code",
   "execution_count": 46,
   "id": "7d78e9c1-a768-40ab-9697-157c1c15b85e",
   "metadata": {},
   "outputs": [],
   "source": [
    "# Save lookalike recommendations to a separate DataFrame\n",
    "lookalike_list = []\n",
    "for cust_id, lookalikes in lookalike_map.items():\n",
    "    for lookalike in lookalikes:\n",
    "        lookalike_list.append({'CustomerID': cust_id, 'LookalikeID': lookalike['cust_id'], 'Score': lookalike['score']})\n",
    "\n",
    "lookalike_df = pd.DataFrame(lookalike_list)\n"
   ]
  },
  {
   "cell_type": "code",
   "execution_count": 48,
   "id": "260bc794-dbf5-490f-891f-4844c6d6d728",
   "metadata": {},
   "outputs": [],
   "source": [
    "# Add Lookalikes to the original Customers dataset\n",
    "customers['Lookalikes'] = customers['CustomerID'].map(lambda x: [\n",
    "    {'cust_id': lookalike['cust_id'], 'score': lookalike['score']}\n",
    "    for lookalike in lookalike_map.get(x, [])\n",
    "])"
   ]
  },
  {
   "cell_type": "code",
   "execution_count": 50,
   "id": "0c2c0cfd-0560-48f1-8d12-5972eac323dc",
   "metadata": {},
   "outputs": [],
   "source": [
    "lookalike_df.to_csv('Sreeyuktha_Ramesh_Lookalike.csv', index=False)"
   ]
  }
 ],
 "metadata": {
  "kernelspec": {
   "display_name": "Python 3 (ipykernel)",
   "language": "python",
   "name": "python3"
  },
  "language_info": {
   "codemirror_mode": {
    "name": "ipython",
    "version": 3
   },
   "file_extension": ".py",
   "mimetype": "text/x-python",
   "name": "python",
   "nbconvert_exporter": "python",
   "pygments_lexer": "ipython3",
   "version": "3.12.4"
  }
 },
 "nbformat": 4,
 "nbformat_minor": 5
}
